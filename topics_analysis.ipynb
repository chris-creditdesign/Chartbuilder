{
  "nbformat": 4,
  "nbformat_minor": 0,
  "metadata": {
    "colab": {
      "provenance": [],
      "authorship_tag": "ABX9TyPGXVNeRgINiNPy9fTTFk/T",
      "include_colab_link": true
    },
    "kernelspec": {
      "name": "python3",
      "display_name": "Python 3"
    },
    "language_info": {
      "name": "python"
    }
  },
  "cells": [
    {
      "cell_type": "markdown",
      "metadata": {
        "id": "view-in-github",
        "colab_type": "text"
      },
      "source": [
        "<a href=\"https://colab.research.google.com/github/chris-creditdesign/Chartbuilder/blob/master/topics_analysis.ipynb\" target=\"_parent\"><img src=\"https://colab.research.google.com/assets/colab-badge.svg\" alt=\"Open In Colab\"/></a>"
      ]
    },
    {
      "cell_type": "code",
      "execution_count": 1,
      "metadata": {
        "colab": {
          "base_uri": "https://localhost:8080/"
        },
        "id": "Q6WglrSeJDlr",
        "outputId": "a8f3e840-7693-427c-9644-77f42e859d89"
      },
      "outputs": [
        {
          "output_type": "stream",
          "name": "stdout",
          "text": [
            "There are 775 rows in the dataframe.\n"
          ]
        }
      ],
      "source": [
        "# Setup\n",
        "import pandas as pd\n",
        "import matplotlib.pyplot as plt\n",
        "import matplotlib.ticker as ticker\n",
        "\n",
        "df = pd.read_csv(\"/content/2024-04-09-NIH Grant Terminations_ Auto-Generated - grant_data.csv\")\n",
        "\n",
        "# Drop any rows where the 'cancellation_source' column is not 'HHS reported' or 'Self reported'\n",
        "df_confirmed = df[df['cancellation_source'].isin(['HHS reported', 'Self reported', 'Self and HHS reported'])]\n",
        "total_grants_count = len(df_confirmed)\n",
        "print(f\"There are {total_grants_count} rows in the dataframe.\")"
      ]
    },
    {
      "cell_type": "code",
      "source": [
        "df_airtable = pd.read_csv(\"/content/2024-04-09-nih_terminations_airtable.csv\")\n",
        "total_airtable_count = len(df_airtable)\n",
        "print(f\"There are {total_airtable_count} rows in the Airtable dataframe.\")"
      ],
      "metadata": {
        "colab": {
          "base_uri": "https://localhost:8080/"
        },
        "id": "SROEnkbC3DDK",
        "outputId": "b7b2c96c-6031-4ddf-95b0-3a275c43d9ae"
      },
      "execution_count": 2,
      "outputs": [
        {
          "output_type": "stream",
          "name": "stdout",
          "text": [
            "There are 772 rows in the Airtable dataframe.\n"
          ]
        }
      ]
    },
    {
      "cell_type": "code",
      "source": [
        "trans_filter_terms = [\n",
        "    'affirming care',\n",
        "    'assigned at birth',\n",
        "    'assigned male at birth',\n",
        "    'assigned female at birth',\n",
        "    'gender diversity',\n",
        "    'gender identity',\n",
        "    'gender affirming care',\n",
        "    'non-binary',\n",
        "    'nonbinary',\n",
        "    'transgender'\n",
        "]"
      ],
      "metadata": {
        "id": "iet6xerkJQ_v"
      },
      "execution_count": 3,
      "outputs": []
    },
    {
      "cell_type": "code",
      "source": [
        "covid_filter_terms = ['COVID-19', 'SARS-CoV-2', 'COVID']"
      ],
      "metadata": {
        "id": "k13DA9qAeUYl"
      },
      "execution_count": 4,
      "outputs": []
    },
    {
      "cell_type": "code",
      "source": [
        "hiv_filter_terms = ['HIV', 'AIDS']"
      ],
      "metadata": {
        "id": "Njs12f5uBBKV"
      },
      "execution_count": 5,
      "outputs": []
    },
    {
      "cell_type": "code",
      "source": [
        "climate_filter_terms = ['Climate', 'environmental justice']"
      ],
      "metadata": {
        "id": "g2LUh9jtBtUF"
      },
      "execution_count": 6,
      "outputs": []
    },
    {
      "cell_type": "code",
      "source": [
        "# Create a dict containing each collection of filter terms as a regex\n",
        "# Wrap each phrase with a word boundry - to require matching of the whole phrase\n",
        "# Join each term with an \"or\" opperator\n",
        "filters = {\n",
        "    \"Trans Health Related\": r'|'.join([r'\\b' + term + r'\\b' for term in trans_filter_terms]),\n",
        "    \"COVID-19 Related\": r'|'.join([r'\\b' + term + r'\\b' for term in covid_filter_terms]),\n",
        "    \"HIV Related\": r'|'.join([r'\\b' + term + r'\\b' for term in hiv_filter_terms]),\n",
        "    \"Climate related\": r'|'.join([r'\\b' + term + r'\\b' for term in climate_filter_terms])\n",
        "}"
      ],
      "metadata": {
        "id": "GMqceeoVL1Pc"
      },
      "execution_count": 7,
      "outputs": []
    },
    {
      "cell_type": "markdown",
      "source": [
        "## Count the grants by filter term"
      ],
      "metadata": {
        "id": "XuNNGhQvZtdn"
      }
    },
    {
      "cell_type": "code",
      "source": [
        "data = []\n",
        "\n",
        "for filter in filters.items():\n",
        "  # Create a boolean mask indicating whether each row's 'terms' string contains any of the filter terms.\n",
        "  terms_mask = df_confirmed['terms'].str.contains(filter[1], case=False, regex=True, na=False)\n",
        "\n",
        "  # Create a boolean mask indicating whether each row's 'project_title' or 'abstract_text' column contains any of the filter terms.\n",
        "  title_abstract_mask = df_confirmed['project_title'].str.contains(filter[1], case=False, regex=True, na=False) | \\\n",
        "        df_confirmed['abstract_text'].str.contains(filter[1], case=False, regex=True, na=False)\n",
        "\n",
        "  # Filter the dataframe using the mask and count the number of entries\n",
        "  terms_filtered_count = len(df_confirmed[terms_mask])\n",
        "  title_abstract_filtered_count = len(df_confirmed[title_abstract_mask])\n",
        "\n",
        "  terms_percentage = round((terms_filtered_count / total_grants_count) * 100)\n",
        "  title_abstract_percentage = round((title_abstract_filtered_count / total_grants_count) * 100)\n",
        "\n",
        "  # Append a dictionary for the current term to the list\n",
        "  data.append({\n",
        "      'field_of_study': filter[0],\n",
        "      'terms_filtered_count': terms_filtered_count,\n",
        "      'terms_percentage': terms_percentage,\n",
        "      'title_abstract_filtered_count': title_abstract_filtered_count,\n",
        "      'title_abstract_percentage': title_abstract_percentage\n",
        "  })\n",
        "\n",
        "  # Print some info.\n",
        "  print(filter[0])\n",
        "  print(f\"* Terms: {terms_filtered_count} ({terms_percentage}%)\")\n",
        "  print(f\"* Title or abstract: {title_abstract_filtered_count} ({title_abstract_percentage}%)\")\n",
        "  print(\"\\n\")"
      ],
      "metadata": {
        "colab": {
          "base_uri": "https://localhost:8080/"
        },
        "id": "_apTvtPYMkQB",
        "outputId": "2e553c04-df14-446e-80b5-077754038aaa"
      },
      "execution_count": 8,
      "outputs": [
        {
          "output_type": "stream",
          "name": "stdout",
          "text": [
            "Trans Health Related\n",
            "* Terms: 258 (33%)\n",
            "* Title or abstract: 188 (24%)\n",
            "\n",
            "\n",
            "COVID-19 Related\n",
            "* Terms: 160 (21%)\n",
            "* Title or abstract: 132 (17%)\n",
            "\n",
            "\n",
            "HIV Related\n",
            "* Terms: 243 (31%)\n",
            "* Title or abstract: 222 (29%)\n",
            "\n",
            "\n",
            "Climate related\n",
            "* Terms: 37 (5%)\n",
            "* Title or abstract: 28 (4%)\n",
            "\n",
            "\n"
          ]
        }
      ]
    },
    {
      "cell_type": "code",
      "source": [
        "# Create a Pandas DataFrame from the data list\n",
        "data_df = pd.DataFrame(data).set_index('field_of_study')"
      ],
      "metadata": {
        "id": "yXE3CmZFSHi2"
      },
      "execution_count": 9,
      "outputs": []
    },
    {
      "cell_type": "code",
      "source": [
        "data_df.head()"
      ],
      "metadata": {
        "colab": {
          "base_uri": "https://localhost:8080/",
          "height": 206
        },
        "id": "-Qv_JcTOfvm5",
        "outputId": "d03efe4c-b52f-4fa2-8905-7d0d31ded494"
      },
      "execution_count": 10,
      "outputs": [
        {
          "output_type": "execute_result",
          "data": {
            "text/plain": [
              "                      terms_filtered_count  terms_percentage  \\\n",
              "field_of_study                                                 \n",
              "Trans Health Related                   258                33   \n",
              "COVID-19 Related                       160                21   \n",
              "HIV Related                            243                31   \n",
              "Climate related                         37                 5   \n",
              "\n",
              "                      title_abstract_filtered_count  title_abstract_percentage  \n",
              "field_of_study                                                                  \n",
              "Trans Health Related                            188                         24  \n",
              "COVID-19 Related                                132                         17  \n",
              "HIV Related                                     222                         29  \n",
              "Climate related                                  28                          4  "
            ],
            "text/html": [
              "\n",
              "  <div id=\"df-a9ef91a8-4539-42f0-935b-d9c52f6abb1f\" class=\"colab-df-container\">\n",
              "    <div>\n",
              "<style scoped>\n",
              "    .dataframe tbody tr th:only-of-type {\n",
              "        vertical-align: middle;\n",
              "    }\n",
              "\n",
              "    .dataframe tbody tr th {\n",
              "        vertical-align: top;\n",
              "    }\n",
              "\n",
              "    .dataframe thead th {\n",
              "        text-align: right;\n",
              "    }\n",
              "</style>\n",
              "<table border=\"1\" class=\"dataframe\">\n",
              "  <thead>\n",
              "    <tr style=\"text-align: right;\">\n",
              "      <th></th>\n",
              "      <th>terms_filtered_count</th>\n",
              "      <th>terms_percentage</th>\n",
              "      <th>title_abstract_filtered_count</th>\n",
              "      <th>title_abstract_percentage</th>\n",
              "    </tr>\n",
              "    <tr>\n",
              "      <th>field_of_study</th>\n",
              "      <th></th>\n",
              "      <th></th>\n",
              "      <th></th>\n",
              "      <th></th>\n",
              "    </tr>\n",
              "  </thead>\n",
              "  <tbody>\n",
              "    <tr>\n",
              "      <th>Trans Health Related</th>\n",
              "      <td>258</td>\n",
              "      <td>33</td>\n",
              "      <td>188</td>\n",
              "      <td>24</td>\n",
              "    </tr>\n",
              "    <tr>\n",
              "      <th>COVID-19 Related</th>\n",
              "      <td>160</td>\n",
              "      <td>21</td>\n",
              "      <td>132</td>\n",
              "      <td>17</td>\n",
              "    </tr>\n",
              "    <tr>\n",
              "      <th>HIV Related</th>\n",
              "      <td>243</td>\n",
              "      <td>31</td>\n",
              "      <td>222</td>\n",
              "      <td>29</td>\n",
              "    </tr>\n",
              "    <tr>\n",
              "      <th>Climate related</th>\n",
              "      <td>37</td>\n",
              "      <td>5</td>\n",
              "      <td>28</td>\n",
              "      <td>4</td>\n",
              "    </tr>\n",
              "  </tbody>\n",
              "</table>\n",
              "</div>\n",
              "    <div class=\"colab-df-buttons\">\n",
              "\n",
              "  <div class=\"colab-df-container\">\n",
              "    <button class=\"colab-df-convert\" onclick=\"convertToInteractive('df-a9ef91a8-4539-42f0-935b-d9c52f6abb1f')\"\n",
              "            title=\"Convert this dataframe to an interactive table.\"\n",
              "            style=\"display:none;\">\n",
              "\n",
              "  <svg xmlns=\"http://www.w3.org/2000/svg\" height=\"24px\" viewBox=\"0 -960 960 960\">\n",
              "    <path d=\"M120-120v-720h720v720H120Zm60-500h600v-160H180v160Zm220 220h160v-160H400v160Zm0 220h160v-160H400v160ZM180-400h160v-160H180v160Zm440 0h160v-160H620v160ZM180-180h160v-160H180v160Zm440 0h160v-160H620v160Z\"/>\n",
              "  </svg>\n",
              "    </button>\n",
              "\n",
              "  <style>\n",
              "    .colab-df-container {\n",
              "      display:flex;\n",
              "      gap: 12px;\n",
              "    }\n",
              "\n",
              "    .colab-df-convert {\n",
              "      background-color: #E8F0FE;\n",
              "      border: none;\n",
              "      border-radius: 50%;\n",
              "      cursor: pointer;\n",
              "      display: none;\n",
              "      fill: #1967D2;\n",
              "      height: 32px;\n",
              "      padding: 0 0 0 0;\n",
              "      width: 32px;\n",
              "    }\n",
              "\n",
              "    .colab-df-convert:hover {\n",
              "      background-color: #E2EBFA;\n",
              "      box-shadow: 0px 1px 2px rgba(60, 64, 67, 0.3), 0px 1px 3px 1px rgba(60, 64, 67, 0.15);\n",
              "      fill: #174EA6;\n",
              "    }\n",
              "\n",
              "    .colab-df-buttons div {\n",
              "      margin-bottom: 4px;\n",
              "    }\n",
              "\n",
              "    [theme=dark] .colab-df-convert {\n",
              "      background-color: #3B4455;\n",
              "      fill: #D2E3FC;\n",
              "    }\n",
              "\n",
              "    [theme=dark] .colab-df-convert:hover {\n",
              "      background-color: #434B5C;\n",
              "      box-shadow: 0px 1px 3px 1px rgba(0, 0, 0, 0.15);\n",
              "      filter: drop-shadow(0px 1px 2px rgba(0, 0, 0, 0.3));\n",
              "      fill: #FFFFFF;\n",
              "    }\n",
              "  </style>\n",
              "\n",
              "    <script>\n",
              "      const buttonEl =\n",
              "        document.querySelector('#df-a9ef91a8-4539-42f0-935b-d9c52f6abb1f button.colab-df-convert');\n",
              "      buttonEl.style.display =\n",
              "        google.colab.kernel.accessAllowed ? 'block' : 'none';\n",
              "\n",
              "      async function convertToInteractive(key) {\n",
              "        const element = document.querySelector('#df-a9ef91a8-4539-42f0-935b-d9c52f6abb1f');\n",
              "        const dataTable =\n",
              "          await google.colab.kernel.invokeFunction('convertToInteractive',\n",
              "                                                    [key], {});\n",
              "        if (!dataTable) return;\n",
              "\n",
              "        const docLinkHtml = 'Like what you see? Visit the ' +\n",
              "          '<a target=\"_blank\" href=https://colab.research.google.com/notebooks/data_table.ipynb>data table notebook</a>'\n",
              "          + ' to learn more about interactive tables.';\n",
              "        element.innerHTML = '';\n",
              "        dataTable['output_type'] = 'display_data';\n",
              "        await google.colab.output.renderOutput(dataTable, element);\n",
              "        const docLink = document.createElement('div');\n",
              "        docLink.innerHTML = docLinkHtml;\n",
              "        element.appendChild(docLink);\n",
              "      }\n",
              "    </script>\n",
              "  </div>\n",
              "\n",
              "\n",
              "<div id=\"df-15c0aaa7-6239-4a16-81ef-4f252c9813c2\">\n",
              "  <button class=\"colab-df-quickchart\" onclick=\"quickchart('df-15c0aaa7-6239-4a16-81ef-4f252c9813c2')\"\n",
              "            title=\"Suggest charts\"\n",
              "            style=\"display:none;\">\n",
              "\n",
              "<svg xmlns=\"http://www.w3.org/2000/svg\" height=\"24px\"viewBox=\"0 0 24 24\"\n",
              "     width=\"24px\">\n",
              "    <g>\n",
              "        <path d=\"M19 3H5c-1.1 0-2 .9-2 2v14c0 1.1.9 2 2 2h14c1.1 0 2-.9 2-2V5c0-1.1-.9-2-2-2zM9 17H7v-7h2v7zm4 0h-2V7h2v10zm4 0h-2v-4h2v4z\"/>\n",
              "    </g>\n",
              "</svg>\n",
              "  </button>\n",
              "\n",
              "<style>\n",
              "  .colab-df-quickchart {\n",
              "      --bg-color: #E8F0FE;\n",
              "      --fill-color: #1967D2;\n",
              "      --hover-bg-color: #E2EBFA;\n",
              "      --hover-fill-color: #174EA6;\n",
              "      --disabled-fill-color: #AAA;\n",
              "      --disabled-bg-color: #DDD;\n",
              "  }\n",
              "\n",
              "  [theme=dark] .colab-df-quickchart {\n",
              "      --bg-color: #3B4455;\n",
              "      --fill-color: #D2E3FC;\n",
              "      --hover-bg-color: #434B5C;\n",
              "      --hover-fill-color: #FFFFFF;\n",
              "      --disabled-bg-color: #3B4455;\n",
              "      --disabled-fill-color: #666;\n",
              "  }\n",
              "\n",
              "  .colab-df-quickchart {\n",
              "    background-color: var(--bg-color);\n",
              "    border: none;\n",
              "    border-radius: 50%;\n",
              "    cursor: pointer;\n",
              "    display: none;\n",
              "    fill: var(--fill-color);\n",
              "    height: 32px;\n",
              "    padding: 0;\n",
              "    width: 32px;\n",
              "  }\n",
              "\n",
              "  .colab-df-quickchart:hover {\n",
              "    background-color: var(--hover-bg-color);\n",
              "    box-shadow: 0 1px 2px rgba(60, 64, 67, 0.3), 0 1px 3px 1px rgba(60, 64, 67, 0.15);\n",
              "    fill: var(--button-hover-fill-color);\n",
              "  }\n",
              "\n",
              "  .colab-df-quickchart-complete:disabled,\n",
              "  .colab-df-quickchart-complete:disabled:hover {\n",
              "    background-color: var(--disabled-bg-color);\n",
              "    fill: var(--disabled-fill-color);\n",
              "    box-shadow: none;\n",
              "  }\n",
              "\n",
              "  .colab-df-spinner {\n",
              "    border: 2px solid var(--fill-color);\n",
              "    border-color: transparent;\n",
              "    border-bottom-color: var(--fill-color);\n",
              "    animation:\n",
              "      spin 1s steps(1) infinite;\n",
              "  }\n",
              "\n",
              "  @keyframes spin {\n",
              "    0% {\n",
              "      border-color: transparent;\n",
              "      border-bottom-color: var(--fill-color);\n",
              "      border-left-color: var(--fill-color);\n",
              "    }\n",
              "    20% {\n",
              "      border-color: transparent;\n",
              "      border-left-color: var(--fill-color);\n",
              "      border-top-color: var(--fill-color);\n",
              "    }\n",
              "    30% {\n",
              "      border-color: transparent;\n",
              "      border-left-color: var(--fill-color);\n",
              "      border-top-color: var(--fill-color);\n",
              "      border-right-color: var(--fill-color);\n",
              "    }\n",
              "    40% {\n",
              "      border-color: transparent;\n",
              "      border-right-color: var(--fill-color);\n",
              "      border-top-color: var(--fill-color);\n",
              "    }\n",
              "    60% {\n",
              "      border-color: transparent;\n",
              "      border-right-color: var(--fill-color);\n",
              "    }\n",
              "    80% {\n",
              "      border-color: transparent;\n",
              "      border-right-color: var(--fill-color);\n",
              "      border-bottom-color: var(--fill-color);\n",
              "    }\n",
              "    90% {\n",
              "      border-color: transparent;\n",
              "      border-bottom-color: var(--fill-color);\n",
              "    }\n",
              "  }\n",
              "</style>\n",
              "\n",
              "  <script>\n",
              "    async function quickchart(key) {\n",
              "      const quickchartButtonEl =\n",
              "        document.querySelector('#' + key + ' button');\n",
              "      quickchartButtonEl.disabled = true;  // To prevent multiple clicks.\n",
              "      quickchartButtonEl.classList.add('colab-df-spinner');\n",
              "      try {\n",
              "        const charts = await google.colab.kernel.invokeFunction(\n",
              "            'suggestCharts', [key], {});\n",
              "      } catch (error) {\n",
              "        console.error('Error during call to suggestCharts:', error);\n",
              "      }\n",
              "      quickchartButtonEl.classList.remove('colab-df-spinner');\n",
              "      quickchartButtonEl.classList.add('colab-df-quickchart-complete');\n",
              "    }\n",
              "    (() => {\n",
              "      let quickchartButtonEl =\n",
              "        document.querySelector('#df-15c0aaa7-6239-4a16-81ef-4f252c9813c2 button');\n",
              "      quickchartButtonEl.style.display =\n",
              "        google.colab.kernel.accessAllowed ? 'block' : 'none';\n",
              "    })();\n",
              "  </script>\n",
              "</div>\n",
              "\n",
              "    </div>\n",
              "  </div>\n"
            ],
            "application/vnd.google.colaboratory.intrinsic+json": {
              "type": "dataframe",
              "variable_name": "data_df",
              "summary": "{\n  \"name\": \"data_df\",\n  \"rows\": 4,\n  \"fields\": [\n    {\n      \"column\": \"field_of_study\",\n      \"properties\": {\n        \"dtype\": \"string\",\n        \"num_unique_values\": 4,\n        \"samples\": [\n          \"COVID-19 Related\",\n          \"Climate related\",\n          \"Trans Health Related\"\n        ],\n        \"semantic_type\": \"\",\n        \"description\": \"\"\n      }\n    },\n    {\n      \"column\": \"terms_filtered_count\",\n      \"properties\": {\n        \"dtype\": \"number\",\n        \"std\": 101,\n        \"min\": 37,\n        \"max\": 258,\n        \"num_unique_values\": 4,\n        \"samples\": [\n          160,\n          37,\n          258\n        ],\n        \"semantic_type\": \"\",\n        \"description\": \"\"\n      }\n    },\n    {\n      \"column\": \"terms_percentage\",\n      \"properties\": {\n        \"dtype\": \"number\",\n        \"std\": 12,\n        \"min\": 5,\n        \"max\": 33,\n        \"num_unique_values\": 4,\n        \"samples\": [\n          21,\n          5,\n          33\n        ],\n        \"semantic_type\": \"\",\n        \"description\": \"\"\n      }\n    },\n    {\n      \"column\": \"title_abstract_filtered_count\",\n      \"properties\": {\n        \"dtype\": \"number\",\n        \"std\": 84,\n        \"min\": 28,\n        \"max\": 222,\n        \"num_unique_values\": 4,\n        \"samples\": [\n          132,\n          28,\n          188\n        ],\n        \"semantic_type\": \"\",\n        \"description\": \"\"\n      }\n    },\n    {\n      \"column\": \"title_abstract_percentage\",\n      \"properties\": {\n        \"dtype\": \"number\",\n        \"std\": 10,\n        \"min\": 4,\n        \"max\": 29,\n        \"num_unique_values\": 4,\n        \"samples\": [\n          17,\n          4,\n          24\n        ],\n        \"semantic_type\": \"\",\n        \"description\": \"\"\n      }\n    }\n  ]\n}"
            }
          },
          "metadata": {},
          "execution_count": 10
        }
      ]
    },
    {
      "cell_type": "code",
      "source": [
        "data_df.to_csv(\"/content/percent_words_within_title_abstract.csv\")"
      ],
      "metadata": {
        "id": "YdpUDJMM21of"
      },
      "execution_count": 11,
      "outputs": []
    },
    {
      "cell_type": "code",
      "source": [
        "data_df[['terms_percentage', 'title_abstract_percentage']].plot(kind='barh', figsize=(10, 6))\n",
        "\n",
        "# Customize the plot\n",
        "plt.xlabel('Percent of total')\n",
        "plt.ylabel('Field of study')\n",
        "plt.title(f\"Words within grant title or abstract and terms list - percent of {total_grants_count} grants\")\n",
        "plt.legend(['Terms', 'Project title or abstract'])\n",
        "plt.tight_layout()\n",
        "plt.show()"
      ],
      "metadata": {
        "colab": {
          "base_uri": "https://localhost:8080/",
          "height": 607
        },
        "id": "UjcdmEofgIWq",
        "outputId": "b6e431cb-2914-4809-acba-3980665f0217"
      },
      "execution_count": 12,
      "outputs": [
        {
          "output_type": "display_data",
          "data": {
            "text/plain": [
              "<Figure size 1000x600 with 1 Axes>"
            ],
            "image/png": "[encoded data removed]"
          },
          "metadata": {}
        }
      ]
    },
    {
      "cell_type": "code",
      "source": [],
      "metadata": {
        "id": "yDi65Gx8Ed51"
      },
      "execution_count": null,
      "outputs": []
    }
  ]
}